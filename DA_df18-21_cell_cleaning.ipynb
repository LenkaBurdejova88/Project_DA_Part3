{
 "cells": [
  {
   "cell_type": "markdown",
   "id": "603bee57",
   "metadata": {},
   "source": [
    "### Other corrections\n",
    "\n",
    "* Removing columns that contain only NaN values\n",
    "\n",
    "* Removing rows - 2.5% of the records were removed — those that had more than 116 columns filled only with NaN values\n",
    "\n",
    "* Unifying data labels within cells"
   ]
  },
  {
   "cell_type": "code",
   "execution_count": 1,
   "id": "24814ef4",
   "metadata": {},
   "outputs": [
    {
     "data": {
      "text/plain": [
       "(89585, 128)"
      ]
     },
     "execution_count": 1,
     "metadata": {},
     "output_type": "execute_result"
    }
   ],
   "source": [
    "import pandas as pd\n",
    "\n",
    "dfall = pd.read_csv(\"df18-21.csv\", low_memory=False)\n",
    "\n",
    "dfall.shape"
   ]
  },
  {
   "cell_type": "markdown",
   "id": "5f31048c",
   "metadata": {},
   "source": [
    "### Removing columns that contain only NaN values"
   ]
  },
  {
   "cell_type": "code",
   "execution_count": 2,
   "id": "a56160a0",
   "metadata": {},
   "outputs": [
    {
     "data": {
      "text/plain": [
       "(89585, 122)"
      ]
     },
     "execution_count": 2,
     "metadata": {},
     "output_type": "execute_result"
    }
   ],
   "source": [
    "dfall.columns[dfall.isna().all()]\n",
    "\n",
    "dfall = dfall.drop(columns=dfall.columns[dfall.isna().all()])\n",
    "\n",
    "dfall.shape"
   ]
  },
  {
   "cell_type": "markdown",
   "id": "a9eb5850",
   "metadata": {},
   "source": [
    "### Removing rows\n",
    "\n",
    "* 2.5% of the records were removed — those that had more than 116 columns filled only with NaN values"
   ]
  },
  {
   "cell_type": "code",
   "execution_count": 3,
   "id": "16dc463d",
   "metadata": {},
   "outputs": [
    {
     "data": {
      "text/html": [
       "<div>\n",
       "<style scoped>\n",
       "    .dataframe tbody tr th:only-of-type {\n",
       "        vertical-align: middle;\n",
       "    }\n",
       "\n",
       "    .dataframe tbody tr th {\n",
       "        vertical-align: top;\n",
       "    }\n",
       "\n",
       "    .dataframe thead th {\n",
       "        text-align: right;\n",
       "    }\n",
       "</style>\n",
       "<table border=\"1\" class=\"dataframe\">\n",
       "  <thead>\n",
       "    <tr style=\"text-align: right;\">\n",
       "      <th></th>\n",
       "      <th>Year</th>\n",
       "      <th>Age</th>\n",
       "      <th>Country</th>\n",
       "      <th>Education</th>\n",
       "      <th>Gender</th>\n",
       "      <th>Current_Role</th>\n",
       "      <th>Current_Yearly_Compensation</th>\n",
       "      <th>Time_Writing_Code</th>\n",
       "      <th>Time_Using_Machine_Learning_Methods</th>\n",
       "      <th>Primary_Tool_Used_For_Data_Analysis</th>\n",
       "      <th>...</th>\n",
       "      <th>Programming_Languages_R</th>\n",
       "      <th>Programming_Languages_Ruby</th>\n",
       "      <th>Programming_Languages_SQL</th>\n",
       "      <th>Programming_Languages_Sas</th>\n",
       "      <th>Programming_Languages_Scala</th>\n",
       "      <th>Programming_Languages_Stata</th>\n",
       "      <th>Programming_Languages_Swift</th>\n",
       "      <th>Programming_Languages_Typescript</th>\n",
       "      <th>Programming_Languages_Vba</th>\n",
       "      <th>Programming_Languages_Visual_Basic</th>\n",
       "    </tr>\n",
       "  </thead>\n",
       "  <tbody>\n",
       "    <tr>\n",
       "      <th>0</th>\n",
       "      <td>2018</td>\n",
       "      <td>45-49</td>\n",
       "      <td>USA</td>\n",
       "      <td>Doctoral degree</td>\n",
       "      <td>Female</td>\n",
       "      <td>Consultant</td>\n",
       "      <td>NaN</td>\n",
       "      <td>I have never written code but I want to learn</td>\n",
       "      <td>I have never studied machine learning but plan...</td>\n",
       "      <td>Cloud-based data software &amp; APIs (AWS, GCP, Az...</td>\n",
       "      <td>...</td>\n",
       "      <td>NaN</td>\n",
       "      <td>NaN</td>\n",
       "      <td>NaN</td>\n",
       "      <td>NaN</td>\n",
       "      <td>NaN</td>\n",
       "      <td>NaN</td>\n",
       "      <td>NaN</td>\n",
       "      <td>NaN</td>\n",
       "      <td>NaN</td>\n",
       "      <td>NaN</td>\n",
       "    </tr>\n",
       "    <tr>\n",
       "      <th>1</th>\n",
       "      <td>2018</td>\n",
       "      <td>30-34</td>\n",
       "      <td>Indonesia</td>\n",
       "      <td>Bachelor’s degree</td>\n",
       "      <td>Male</td>\n",
       "      <td>Other</td>\n",
       "      <td>10-20,000</td>\n",
       "      <td>I have never written code but I want to learn</td>\n",
       "      <td>I have never studied machine learning but plan...</td>\n",
       "      <td>Basic statistical software (Microsoft Excel, G...</td>\n",
       "      <td>...</td>\n",
       "      <td>NaN</td>\n",
       "      <td>NaN</td>\n",
       "      <td>SQL</td>\n",
       "      <td>NaN</td>\n",
       "      <td>NaN</td>\n",
       "      <td>NaN</td>\n",
       "      <td>NaN</td>\n",
       "      <td>NaN</td>\n",
       "      <td>NaN</td>\n",
       "      <td>NaN</td>\n",
       "    </tr>\n",
       "    <tr>\n",
       "      <th>2</th>\n",
       "      <td>2018</td>\n",
       "      <td>30-34</td>\n",
       "      <td>USA</td>\n",
       "      <td>Master’s degree</td>\n",
       "      <td>Female</td>\n",
       "      <td>Data Scientist</td>\n",
       "      <td>0-10,000</td>\n",
       "      <td>5-10 years</td>\n",
       "      <td>&lt; 1 year</td>\n",
       "      <td>Local or hosted development environments (RStu...</td>\n",
       "      <td>...</td>\n",
       "      <td>R</td>\n",
       "      <td>NaN</td>\n",
       "      <td>NaN</td>\n",
       "      <td>NaN</td>\n",
       "      <td>NaN</td>\n",
       "      <td>NaN</td>\n",
       "      <td>NaN</td>\n",
       "      <td>NaN</td>\n",
       "      <td>NaN</td>\n",
       "      <td>NaN</td>\n",
       "    </tr>\n",
       "    <tr>\n",
       "      <th>3</th>\n",
       "      <td>2018</td>\n",
       "      <td>35-39</td>\n",
       "      <td>USA</td>\n",
       "      <td>Master’s degree</td>\n",
       "      <td>Male</td>\n",
       "      <td>Not employed</td>\n",
       "      <td>NaN</td>\n",
       "      <td>5-10 years</td>\n",
       "      <td>4-5 years</td>\n",
       "      <td>Local or hosted development environments (RStu...</td>\n",
       "      <td>...</td>\n",
       "      <td>R</td>\n",
       "      <td>NaN</td>\n",
       "      <td>SQL</td>\n",
       "      <td>NaN</td>\n",
       "      <td>NaN</td>\n",
       "      <td>NaN</td>\n",
       "      <td>NaN</td>\n",
       "      <td>Typescript</td>\n",
       "      <td>NaN</td>\n",
       "      <td>NaN</td>\n",
       "    </tr>\n",
       "    <tr>\n",
       "      <th>4</th>\n",
       "      <td>2018</td>\n",
       "      <td>22-24</td>\n",
       "      <td>India</td>\n",
       "      <td>Master’s degree</td>\n",
       "      <td>Male</td>\n",
       "      <td>Data Analyst</td>\n",
       "      <td>0-10,000</td>\n",
       "      <td>5-10 years</td>\n",
       "      <td>2-3 years</td>\n",
       "      <td>Advanced statistical software (SPSS, SAS, etc.)</td>\n",
       "      <td>...</td>\n",
       "      <td>NaN</td>\n",
       "      <td>NaN</td>\n",
       "      <td>SQL</td>\n",
       "      <td>NaN</td>\n",
       "      <td>NaN</td>\n",
       "      <td>NaN</td>\n",
       "      <td>NaN</td>\n",
       "      <td>NaN</td>\n",
       "      <td>NaN</td>\n",
       "      <td>NaN</td>\n",
       "    </tr>\n",
       "    <tr>\n",
       "      <th>...</th>\n",
       "      <td>...</td>\n",
       "      <td>...</td>\n",
       "      <td>...</td>\n",
       "      <td>...</td>\n",
       "      <td>...</td>\n",
       "      <td>...</td>\n",
       "      <td>...</td>\n",
       "      <td>...</td>\n",
       "      <td>...</td>\n",
       "      <td>...</td>\n",
       "      <td>...</td>\n",
       "      <td>...</td>\n",
       "      <td>...</td>\n",
       "      <td>...</td>\n",
       "      <td>...</td>\n",
       "      <td>...</td>\n",
       "      <td>...</td>\n",
       "      <td>...</td>\n",
       "      <td>...</td>\n",
       "      <td>...</td>\n",
       "      <td>...</td>\n",
       "    </tr>\n",
       "    <tr>\n",
       "      <th>89580</th>\n",
       "      <td>2021</td>\n",
       "      <td>30-34</td>\n",
       "      <td>Other</td>\n",
       "      <td>Bachelor’s degree</td>\n",
       "      <td>Man</td>\n",
       "      <td>Data Analyst</td>\n",
       "      <td>15,000-19,999</td>\n",
       "      <td>1-3 years</td>\n",
       "      <td>1-2 years</td>\n",
       "      <td>Business intelligence software (Salesforce, Ta...</td>\n",
       "      <td>...</td>\n",
       "      <td>NaN</td>\n",
       "      <td>NaN</td>\n",
       "      <td>SQL</td>\n",
       "      <td>NaN</td>\n",
       "      <td>NaN</td>\n",
       "      <td>NaN</td>\n",
       "      <td>NaN</td>\n",
       "      <td>NaN</td>\n",
       "      <td>NaN</td>\n",
       "      <td>NaN</td>\n",
       "    </tr>\n",
       "    <tr>\n",
       "      <th>89581</th>\n",
       "      <td>2021</td>\n",
       "      <td>22-24</td>\n",
       "      <td>Other</td>\n",
       "      <td>Master’s degree</td>\n",
       "      <td>Man</td>\n",
       "      <td>Student</td>\n",
       "      <td>NaN</td>\n",
       "      <td>1-3 years</td>\n",
       "      <td>1-2 years</td>\n",
       "      <td>NaN</td>\n",
       "      <td>...</td>\n",
       "      <td>NaN</td>\n",
       "      <td>NaN</td>\n",
       "      <td>NaN</td>\n",
       "      <td>NaN</td>\n",
       "      <td>NaN</td>\n",
       "      <td>NaN</td>\n",
       "      <td>NaN</td>\n",
       "      <td>NaN</td>\n",
       "      <td>NaN</td>\n",
       "      <td>NaN</td>\n",
       "    </tr>\n",
       "    <tr>\n",
       "      <th>89582</th>\n",
       "      <td>2021</td>\n",
       "      <td>50-54</td>\n",
       "      <td>Other</td>\n",
       "      <td>Doctoral degree</td>\n",
       "      <td>Man</td>\n",
       "      <td>Research Scientist</td>\n",
       "      <td>$0-999</td>\n",
       "      <td>I have never written code</td>\n",
       "      <td>NaN</td>\n",
       "      <td>Basic statistical software (Microsoft Excel, G...</td>\n",
       "      <td>...</td>\n",
       "      <td>NaN</td>\n",
       "      <td>NaN</td>\n",
       "      <td>NaN</td>\n",
       "      <td>NaN</td>\n",
       "      <td>NaN</td>\n",
       "      <td>NaN</td>\n",
       "      <td>NaN</td>\n",
       "      <td>NaN</td>\n",
       "      <td>NaN</td>\n",
       "      <td>NaN</td>\n",
       "    </tr>\n",
       "    <tr>\n",
       "      <th>89583</th>\n",
       "      <td>2021</td>\n",
       "      <td>45-49</td>\n",
       "      <td>United States of America</td>\n",
       "      <td>Master’s degree</td>\n",
       "      <td>Man</td>\n",
       "      <td>Data Scientist</td>\n",
       "      <td>NaN</td>\n",
       "      <td>5-10 years</td>\n",
       "      <td>4-5 years</td>\n",
       "      <td>NaN</td>\n",
       "      <td>...</td>\n",
       "      <td>NaN</td>\n",
       "      <td>NaN</td>\n",
       "      <td>SQL</td>\n",
       "      <td>NaN</td>\n",
       "      <td>NaN</td>\n",
       "      <td>NaN</td>\n",
       "      <td>NaN</td>\n",
       "      <td>NaN</td>\n",
       "      <td>NaN</td>\n",
       "      <td>NaN</td>\n",
       "    </tr>\n",
       "    <tr>\n",
       "      <th>89584</th>\n",
       "      <td>2021</td>\n",
       "      <td>18-21</td>\n",
       "      <td>India</td>\n",
       "      <td>Bachelor’s degree</td>\n",
       "      <td>Man</td>\n",
       "      <td>Business Analyst</td>\n",
       "      <td>$0-999</td>\n",
       "      <td>I have never written code</td>\n",
       "      <td>NaN</td>\n",
       "      <td>Advanced statistical software (SPSS, SAS, etc.)</td>\n",
       "      <td>...</td>\n",
       "      <td>NaN</td>\n",
       "      <td>NaN</td>\n",
       "      <td>NaN</td>\n",
       "      <td>NaN</td>\n",
       "      <td>NaN</td>\n",
       "      <td>NaN</td>\n",
       "      <td>NaN</td>\n",
       "      <td>NaN</td>\n",
       "      <td>NaN</td>\n",
       "      <td>NaN</td>\n",
       "    </tr>\n",
       "  </tbody>\n",
       "</table>\n",
       "<p>87257 rows × 122 columns</p>\n",
       "</div>"
      ],
      "text/plain": [
       "       Year    Age                   Country          Education  Gender  \\\n",
       "0      2018  45-49                       USA    Doctoral degree  Female   \n",
       "1      2018  30-34                 Indonesia  Bachelor’s degree    Male   \n",
       "2      2018  30-34                       USA    Master’s degree  Female   \n",
       "3      2018  35-39                       USA    Master’s degree    Male   \n",
       "4      2018  22-24                     India    Master’s degree    Male   \n",
       "...     ...    ...                       ...                ...     ...   \n",
       "89580  2021  30-34                     Other  Bachelor’s degree     Man   \n",
       "89581  2021  22-24                     Other    Master’s degree     Man   \n",
       "89582  2021  50-54                     Other    Doctoral degree     Man   \n",
       "89583  2021  45-49  United States of America    Master’s degree     Man   \n",
       "89584  2021  18-21                     India  Bachelor’s degree     Man   \n",
       "\n",
       "             Current_Role Current_Yearly_Compensation  \\\n",
       "0              Consultant                         NaN   \n",
       "1                   Other                   10-20,000   \n",
       "2          Data Scientist                    0-10,000   \n",
       "3            Not employed                         NaN   \n",
       "4            Data Analyst                    0-10,000   \n",
       "...                   ...                         ...   \n",
       "89580        Data Analyst               15,000-19,999   \n",
       "89581             Student                         NaN   \n",
       "89582  Research Scientist                      $0-999   \n",
       "89583      Data Scientist                         NaN   \n",
       "89584    Business Analyst                      $0-999   \n",
       "\n",
       "                                   Time_Writing_Code  \\\n",
       "0      I have never written code but I want to learn   \n",
       "1      I have never written code but I want to learn   \n",
       "2                                         5-10 years   \n",
       "3                                         5-10 years   \n",
       "4                                         5-10 years   \n",
       "...                                              ...   \n",
       "89580                                      1-3 years   \n",
       "89581                                      1-3 years   \n",
       "89582                      I have never written code   \n",
       "89583                                     5-10 years   \n",
       "89584                      I have never written code   \n",
       "\n",
       "                     Time_Using_Machine_Learning_Methods  \\\n",
       "0      I have never studied machine learning but plan...   \n",
       "1      I have never studied machine learning but plan...   \n",
       "2                                               < 1 year   \n",
       "3                                              4-5 years   \n",
       "4                                              2-3 years   \n",
       "...                                                  ...   \n",
       "89580                                          1-2 years   \n",
       "89581                                          1-2 years   \n",
       "89582                                                NaN   \n",
       "89583                                          4-5 years   \n",
       "89584                                                NaN   \n",
       "\n",
       "                     Primary_Tool_Used_For_Data_Analysis  ...  \\\n",
       "0      Cloud-based data software & APIs (AWS, GCP, Az...  ...   \n",
       "1      Basic statistical software (Microsoft Excel, G...  ...   \n",
       "2      Local or hosted development environments (RStu...  ...   \n",
       "3      Local or hosted development environments (RStu...  ...   \n",
       "4        Advanced statistical software (SPSS, SAS, etc.)  ...   \n",
       "...                                                  ...  ...   \n",
       "89580  Business intelligence software (Salesforce, Ta...  ...   \n",
       "89581                                                NaN  ...   \n",
       "89582  Basic statistical software (Microsoft Excel, G...  ...   \n",
       "89583                                                NaN  ...   \n",
       "89584    Advanced statistical software (SPSS, SAS, etc.)  ...   \n",
       "\n",
       "      Programming_Languages_R Programming_Languages_Ruby  \\\n",
       "0                         NaN                        NaN   \n",
       "1                         NaN                        NaN   \n",
       "2                           R                        NaN   \n",
       "3                           R                        NaN   \n",
       "4                         NaN                        NaN   \n",
       "...                       ...                        ...   \n",
       "89580                     NaN                        NaN   \n",
       "89581                     NaN                        NaN   \n",
       "89582                     NaN                        NaN   \n",
       "89583                     NaN                        NaN   \n",
       "89584                     NaN                        NaN   \n",
       "\n",
       "      Programming_Languages_SQL Programming_Languages_Sas  \\\n",
       "0                           NaN                       NaN   \n",
       "1                           SQL                       NaN   \n",
       "2                           NaN                       NaN   \n",
       "3                           SQL                       NaN   \n",
       "4                           SQL                       NaN   \n",
       "...                         ...                       ...   \n",
       "89580                       SQL                       NaN   \n",
       "89581                       NaN                       NaN   \n",
       "89582                       NaN                       NaN   \n",
       "89583                       SQL                       NaN   \n",
       "89584                       NaN                       NaN   \n",
       "\n",
       "      Programming_Languages_Scala Programming_Languages_Stata  \\\n",
       "0                             NaN                         NaN   \n",
       "1                             NaN                         NaN   \n",
       "2                             NaN                         NaN   \n",
       "3                             NaN                         NaN   \n",
       "4                             NaN                         NaN   \n",
       "...                           ...                         ...   \n",
       "89580                         NaN                         NaN   \n",
       "89581                         NaN                         NaN   \n",
       "89582                         NaN                         NaN   \n",
       "89583                         NaN                         NaN   \n",
       "89584                         NaN                         NaN   \n",
       "\n",
       "      Programming_Languages_Swift Programming_Languages_Typescript  \\\n",
       "0                             NaN                              NaN   \n",
       "1                             NaN                              NaN   \n",
       "2                             NaN                              NaN   \n",
       "3                             NaN                       Typescript   \n",
       "4                             NaN                              NaN   \n",
       "...                           ...                              ...   \n",
       "89580                         NaN                              NaN   \n",
       "89581                         NaN                              NaN   \n",
       "89582                         NaN                              NaN   \n",
       "89583                         NaN                              NaN   \n",
       "89584                         NaN                              NaN   \n",
       "\n",
       "      Programming_Languages_Vba Programming_Languages_Visual_Basic  \n",
       "0                           NaN                                NaN  \n",
       "1                           NaN                                NaN  \n",
       "2                           NaN                                NaN  \n",
       "3                           NaN                                NaN  \n",
       "4                           NaN                                NaN  \n",
       "...                         ...                                ...  \n",
       "89580                       NaN                                NaN  \n",
       "89581                       NaN                                NaN  \n",
       "89582                       NaN                                NaN  \n",
       "89583                       NaN                                NaN  \n",
       "89584                       NaN                                NaN  \n",
       "\n",
       "[87257 rows x 122 columns]"
      ]
     },
     "execution_count": 3,
     "metadata": {},
     "output_type": "execute_result"
    }
   ],
   "source": [
    "#controling and removing of NaN in rows\n",
    "\n",
    "nan_counts_per_row = dfall.isnull().sum(axis=1)\n",
    "\n",
    "rows_with_more_than_116_nan = dfall[nan_counts_per_row > 116]\n",
    "\n",
    "# print(f\"Count of rows: {len(rows_with_more_than_116_nan)}\")\n",
    "\n",
    "#drop rows with 116 NaN values\n",
    "dfall = dfall[nan_counts_per_row <= 116]\n",
    "\n",
    "dfall"
   ]
  },
  {
   "cell_type": "markdown",
   "id": "22cfd9ff",
   "metadata": {},
   "source": [
    "### Removing empty space within cells"
   ]
  },
  {
   "cell_type": "code",
   "execution_count": 4,
   "id": "4f0f1921",
   "metadata": {},
   "outputs": [
    {
     "name": "stdout",
     "output_type": "stream",
     "text": [
      "Cells are clean\n"
     ]
    }
   ],
   "source": [
    "# removing empty spaces\n",
    "\n",
    "dfall = dfall.apply(lambda col: col.map(lambda x: x.strip() if isinstance(x, str) else x))\n",
    "\n",
    "# check empty spaces\n",
    "mask = dfall.stack().map(lambda x: isinstance(x, str) and (x != x.strip()))\n",
    "\n",
    "if mask.any():\n",
    "    print(\"Cells contain empty spaces\")\n",
    "else:\n",
    "    print(\"Cells are clean\")"
   ]
  },
  {
   "cell_type": "markdown",
   "id": "66c7fd13",
   "metadata": {},
   "source": [
    "### Unifying data labels within cells"
   ]
  },
  {
   "cell_type": "markdown",
   "id": "a03311d5",
   "metadata": {},
   "source": [
    "Column Year"
   ]
  },
  {
   "cell_type": "code",
   "execution_count": 5,
   "id": "b753e96e",
   "metadata": {},
   "outputs": [
    {
     "name": "stdout",
     "output_type": "stream",
     "text": [
      "<class 'pandas.core.frame.DataFrame'>\n",
      "Index: 87257 entries, 0 to 89584\n",
      "Data columns (total 122 columns):\n",
      " #    Column                                                Dtype \n",
      "---   ------                                                ----- \n",
      " 0    Year                                                  int64 \n",
      " 1    Age                                                   object\n",
      " 2    Country                                               object\n",
      " 3    Education                                             object\n",
      " 4    Gender                                                object\n",
      " 5    Current_Role                                          object\n",
      " 6    Current_Yearly_Compensation                           object\n",
      " 7    Time_Writing_Code                                     object\n",
      " 8    Time_Using_Machine_Learning_Methods                   object\n",
      " 9    Primary_Tool_Used_For_Data_Analysis                   object\n",
      " 10   Data_Science_Courses_Cloud_Certification_Programs     object\n",
      " 11   Data_Science_Courses_Coursera                         object\n",
      " 12   Data_Science_Courses_Datacamp                         object\n",
      " 13   Data_Science_Courses_Dataquest                        object\n",
      " 14   Data_Science_Courses_Developers.Google.Com            object\n",
      " 15   Data_Science_Courses_Edx                              object\n",
      " 16   Data_Science_Courses_Fast.Ai                          object\n",
      " 17   Data_Science_Courses_Kaggle_Courses                   object\n",
      " 18   Data_Science_Courses_Linkedin_Learning                object\n",
      " 19   Data_Science_Courses_Other                            object\n",
      " 20   Data_Science_Courses_Theschool.Ai                     object\n",
      " 21   Data_Science_Courses_Udacity                          object\n",
      " 22   Data_Science_Courses_Udemy                            object\n",
      " 23   Data_Science_Courses_University_Courses               object\n",
      " 24   Data_Visualization_Libraries_Altair                   object\n",
      " 25   Data_Visualization_Libraries_Bokeh                    object\n",
      " 26   Data_Visualization_Libraries_D3_Js                    object\n",
      " 27   Data_Visualization_Libraries_Folium                   object\n",
      " 28   Data_Visualization_Libraries_Geoplotlib               object\n",
      " 29   Data_Visualization_Libraries_Ggplot                   object\n",
      " 30   Data_Visualization_Libraries_Ggplot2                  object\n",
      " 31   Data_Visualization_Libraries_Lattice                  object\n",
      " 32   Data_Visualization_Libraries_Leaflet                  object\n",
      " 33   Data_Visualization_Libraries_Matplotlib               object\n",
      " 34   Data_Visualization_Libraries_Other                    object\n",
      " 35   Data_Visualization_Libraries_Plotly                   object\n",
      " 36   Data_Visualization_Libraries_Plotly_Express           object\n",
      " 37   Data_Visualization_Libraries_Seaborn                  object\n",
      " 38   Data_Visualization_Libraries_Shiny                    object\n",
      " 39   Ide's_Atom                                            object\n",
      " 40   Ide's_Emacs                                           object\n",
      " 41   Ide's_IntelliJ                                        object\n",
      " 42   Ide's_Jupyter                                         object\n",
      " 43   Ide's_Matlab                                          object\n",
      " 44   Ide's_Notepad++                                       object\n",
      " 45   Ide's_Other                                           object\n",
      " 46   Ide's_Pycharm                                         object\n",
      " 47   Ide's_RStudio                                         object\n",
      " 48   Ide's_Spyder                                          object\n",
      " 49   Ide's_Sublime_Text                                    object\n",
      " 50   Ide's_Vim                                             object\n",
      " 51   Ide's_Visual_Studio                                   object\n",
      " 52   Ide's_Visual_Studio_Code                              object\n",
      " 53   Ide's_nteract                                         object\n",
      " 54   Machine_Learning_Frameworks_Caffe                     object\n",
      " 55   Machine_Learning_Frameworks_Caret                     object\n",
      " 56   Machine_Learning_Frameworks_Catboost                  object\n",
      " 57   Machine_Learning_Frameworks_Cntk                      object\n",
      " 58   Machine_Learning_Frameworks_Fast.Ai                   object\n",
      " 59   Machine_Learning_Frameworks_H2o_3                     object\n",
      " 60   Machine_Learning_Frameworks_Huggingface               object\n",
      " 61   Machine_Learning_Frameworks_Jax                       object\n",
      " 62   Machine_Learning_Frameworks_Keras                     object\n",
      " 63   Machine_Learning_Frameworks_Lightgbm                  object\n",
      " 64   Machine_Learning_Frameworks_Mlr                       object\n",
      " 65   Machine_Learning_Frameworks_Mxnet                     object\n",
      " 66   Machine_Learning_Frameworks_Other                     object\n",
      " 67   Machine_Learning_Frameworks_Prophet                   object\n",
      " 68   Machine_Learning_Frameworks_Pytorch                   object\n",
      " 69   Machine_Learning_Frameworks_Pytorch_Lightning         object\n",
      " 70   Machine_Learning_Frameworks_Randomforest              object\n",
      " 71   Machine_Learning_Frameworks_Scikit_Learn              object\n",
      " 72   Machine_Learning_Frameworks_Spark_Mllib               object\n",
      " 73   Machine_Learning_Frameworks_Tensorflow                object\n",
      " 74   Machine_Learning_Frameworks_Tidymodels                object\n",
      " 75   Machine_Learning_Frameworks_Xgboost                   object\n",
      " 76   Notebook_Products_Amazon_Emr_Notebooks                object\n",
      " 77   Notebook_Products_Amazon_Sagemaker_Studio             object\n",
      " 78   Notebook_Products_Aws_Notebook                        object\n",
      " 79   Notebook_Products_Azure_Notebooks                     object\n",
      " 80   Notebook_Products_Binder                              object\n",
      " 81   Notebook_Products_Code_Ocean                          object\n",
      " 82   Notebook_Products_Colab_Notebooks                     object\n",
      " 83   Notebook_Products_Crestle                             object\n",
      " 84   Notebook_Products_Databricks_Collaborative_Notebooks  object\n",
      " 85   Notebook_Products_Deepnote_Notebooks                  object\n",
      " 86   Notebook_Products_Domino_Datalab                      object\n",
      " 87   Notebook_Products_Floydhub                            object\n",
      " 88   Notebook_Products_Google_Cloud_Datalab_Notebooks      object\n",
      " 89   Notebook_Products_Google_Cloud_Notebooks              object\n",
      " 90   Notebook_Products_Gradient                            object\n",
      " 91   Notebook_Products_Ibm_Watson_Studio                   object\n",
      " 92   Notebook_Products_Jupyterhub                          object\n",
      " 93   Notebook_Products_Kaggle_Notebooks                    object\n",
      " 94   Notebook_Products_Observable_Notebooks                object\n",
      " 95   Notebook_Products_Other                               object\n",
      " 96   Notebook_Products_Paperspace                          object\n",
      " 97   Notebook_Products_Zepl_Notebooks                      object\n",
      " 98   Notebook_Products_Zeppelin                            object\n",
      " 99   Programming_Languages_.Net                            object\n",
      " 100  Programming_Languages_Bash                            object\n",
      " 101  Programming_Languages_C                               object\n",
      " 102  Programming_Languages_C#                              object\n",
      " 103  Programming_Languages_C++                             object\n",
      " 104  Programming_Languages_Go                              object\n",
      " 105  Programming_Languages_Java                            object\n",
      " 106  Programming_Languages_Javascript                      object\n",
      " 107  Programming_Languages_Julia                           object\n",
      " 108  Programming_Languages_Matlab                          object\n",
      " 109  Programming_Languages_Other                           object\n",
      " 110  Programming_Languages_Php                             object\n",
      " 111  Programming_Languages_Python                          object\n",
      " 112  Programming_Languages_R                               object\n",
      " 113  Programming_Languages_Ruby                            object\n",
      " 114  Programming_Languages_SQL                             object\n",
      " 115  Programming_Languages_Sas                             object\n",
      " 116  Programming_Languages_Scala                           object\n",
      " 117  Programming_Languages_Stata                           object\n",
      " 118  Programming_Languages_Swift                           object\n",
      " 119  Programming_Languages_Typescript                      object\n",
      " 120  Programming_Languages_Vba                             object\n",
      " 121  Programming_Languages_Visual_Basic                    object\n",
      "dtypes: int64(1), object(121)\n",
      "memory usage: 83.9+ MB\n"
     ]
    }
   ],
   "source": [
    "dfall[\"Year\"].unique()\n",
    "dfall.info(verbose=True)"
   ]
  },
  {
   "cell_type": "markdown",
   "id": "34179145",
   "metadata": {},
   "source": [
    "Column Age"
   ]
  },
  {
   "cell_type": "code",
   "execution_count": 6,
   "id": "29470334",
   "metadata": {},
   "outputs": [
    {
     "data": {
      "text/plain": [
       "array(['45-54', '25-34', '35-44', '18-24', '55-59', '60-69', '70+'],\n",
       "      dtype=object)"
      ]
     },
     "execution_count": 6,
     "metadata": {},
     "output_type": "execute_result"
    }
   ],
   "source": [
    "dfall[\"Age\"].unique()\n",
    "dfall[\"Age\"] = dfall[\"Age\"].replace({\n",
    "    \"18-21\": \"18-24\",\n",
    "    \"22-24\": \"18-24\",\n",
    "    \"25-29\": \"25-34\",\n",
    "    \"30-34\": \"25-34\",\n",
    "    \"35-39\": \"35-44\",\n",
    "    \"40-44\": \"35-44\",\n",
    "    \"45-49\": \"45-54\",\n",
    "    \"50-54\": \"45-54\",\n",
    "    \"55-59\": \"55-59\",\n",
    "    \"60-69\": \"60-69\",\n",
    "    \"70+\": \"70+\",\n",
    "    \"70-79\": \"70+\",\n",
    "    \"80+\": \"70+\"\n",
    "    })\n",
    "dfall[\"Age\"].unique()"
   ]
  },
  {
   "cell_type": "markdown",
   "id": "39a29c1b",
   "metadata": {},
   "source": [
    "Column Country"
   ]
  },
  {
   "cell_type": "code",
   "execution_count": 7,
   "id": "14c3727e",
   "metadata": {},
   "outputs": [
    {
     "data": {
      "text/plain": [
       "array(['USA', 'Indonesia', 'India', 'Colombia', 'Chile', 'Turkey',\n",
       "       'Hungary', 'Ireland', 'France', 'Argentina', 'Japan', 'Nigeria',\n",
       "       'Spain', 'Other', 'Iran', 'UK', 'Poland', 'Kenya', 'Denmark',\n",
       "       'Netherlands', 'China', 'Sweden', 'Ukraine', 'Canada', 'Australia',\n",
       "       'Russia', 'Austria', 'Italy', 'Mexico', 'Germany', 'No location',\n",
       "       'Singapore', 'Brazil', 'Switzerland', 'South Africa',\n",
       "       'South Korea', 'Malaysia', 'Egypt', 'Tunisia', 'Portugal',\n",
       "       'Thailand', 'Morocco', 'Pakistan', 'Czech Republic', 'Romania',\n",
       "       'Israel', 'Philippines', 'Bangladesh', 'Belarus', 'Vietnam',\n",
       "       'Belgium', 'New Zealand', 'Norway', 'Finland', 'Greece', 'Peru',\n",
       "       'Taiwan', 'Algeria', 'Saudi Arabia', 'Nepal', 'UAE', 'Ghana',\n",
       "       'Sri Lanka'], dtype=object)"
      ]
     },
     "execution_count": 7,
     "metadata": {},
     "output_type": "execute_result"
    }
   ],
   "source": [
    "dfall[\"Country\"].unique()\n",
    "\n",
    "dfall[\"Country\"] = dfall[\"Country\"].replace({\n",
    "    \"United States of America\": \"USA\",\n",
    "    \"United Arab Emirates\": \"UAE\",\n",
    "    \"Viet Nam\": \"Vietnam\",\n",
    "    \"United Kingdom of Great Britain and Northern Ireland\": \"UK\",\n",
    "    \"Iran, Islamic Republic of...\": \"Iran\",\n",
    "    \"Republic of Korea\": \"South Korea\",\n",
    "    \"Hong Kong (S.A.R.)\": \"China\",\n",
    "    \"Hong Kong\": \"China\",\n",
    "    \"I do not wish to disclose my location\": \"No location\"})\n",
    "\n",
    "dfall[\"Country\"].unique()"
   ]
  },
  {
   "cell_type": "markdown",
   "id": "43c48fb3",
   "metadata": {},
   "source": [
    "Column Education"
   ]
  },
  {
   "cell_type": "code",
   "execution_count": 8,
   "id": "724af701",
   "metadata": {},
   "outputs": [
    {
     "data": {
      "text/plain": [
       "array(['Doctor', 'Bachelor', 'Master', 'Professional',\n",
       "       'College ungraduate', 'Unknown', 'High school student'],\n",
       "      dtype=object)"
      ]
     },
     "execution_count": 8,
     "metadata": {},
     "output_type": "execute_result"
    }
   ],
   "source": [
    "dfall[\"Education\"].unique()\n",
    "\n",
    "\n",
    "dfall[\"Education\"] = dfall[\"Education\"].replace({\n",
    "    \"Doctoral degree\": \"Doctor\",\n",
    "    \"Master’s degree\": \"Master\",\n",
    "    \"Bachelor’s degree\": \"Bachelor\",\n",
    "    \"No formal education past high school\": \"High school student\",\n",
    "    \"Some college/university study without earning a bachelor’s degree\": \"College ungraduate\",\n",
    "    \"Professional degree\": \"Professional\",\n",
    "    \"I prefer not to answer\": \"Unknown\",\n",
    "    \"Professional doctorate\": \"Doctor\"\n",
    "    })\n",
    "\n",
    "dfall[\"Education\"].unique()"
   ]
  },
  {
   "cell_type": "markdown",
   "id": "91099539",
   "metadata": {},
   "source": [
    "Column Gender"
   ]
  },
  {
   "cell_type": "code",
   "execution_count": 9,
   "id": "1d614e2d",
   "metadata": {},
   "outputs": [
    {
     "data": {
      "text/plain": [
       "array(['Female', 'Male', 'Unknown', 'Self-describe', 'Nonbinary'],\n",
       "      dtype=object)"
      ]
     },
     "execution_count": 9,
     "metadata": {},
     "output_type": "execute_result"
    }
   ],
   "source": [
    "dfall[\"Gender\"].unique()\n",
    "\n",
    "dfall[\"Gender\"] = dfall[\"Gender\"].replace({\n",
    "    \"Prefer to self-describe\": \"Self-describe\",\n",
    "    \"Prefer not to say\": \"Unknown\",\n",
    "    \"Woman\": \"Female\",\n",
    "    \"Man\": \"Male\"\n",
    "     })\n",
    "\n",
    "dfall[\"Gender\"].unique()"
   ]
  },
  {
   "cell_type": "markdown",
   "id": "c8bfcdc4",
   "metadata": {},
   "source": [
    "Column Current Role"
   ]
  },
  {
   "cell_type": "code",
   "execution_count": 10,
   "id": "23ff01e4",
   "metadata": {},
   "outputs": [
    {
     "data": {
      "text/plain": [
       "array(['Consultant', 'Other', 'Data Scientist', 'Unemployed',\n",
       "       'Data Analyst', 'Software Engineer', 'Student',\n",
       "       'Research Assistant', 'Chief Officer', 'Product/Project Manager',\n",
       "       'Research Scientist', 'BI Analyst', 'Data Engineer',\n",
       "       'Developer Advocate', 'Marketing Analyst',\n",
       "       'Principal Investigator', 'Salesperson', 'Database Engineer',\n",
       "       'Statistician', 'Data Journalist', 'ML Engineer'], dtype=object)"
      ]
     },
     "execution_count": 10,
     "metadata": {},
     "output_type": "execute_result"
    }
   ],
   "source": [
    "dfall[\"Current_Role\"].unique()\n",
    "\n",
    "dfall[\"Current_Role\"] = dfall[\"Current_Role\"].replace({\n",
    "    \"Currently not employed\": \"Unemployed\",\n",
    "    \"Not employed\": \"Unemployed\",\n",
    "    \"Machine Learning Engineer\": \"ML Engineer\",\n",
    "    \"DBA/Database Engineer\": \"Database Engineer\",\n",
    "    \"Business Analyst\": \"BI Analyst\",\n",
    "    \"Manager\": \"Product/Project Manager\",\n",
    "    \"Program/Project Manager\": \"Product/Project Manager\",\n",
    "    \"Product Manager\": \"Product/Project Manager\",\n",
    "    \"Developer Relations/Advocacy\": \"Developer Advocate\"})\n",
    "\n",
    "dfall[\"Current_Role\"].unique()\n"
   ]
  },
  {
   "cell_type": "markdown",
   "id": "cad9a29a",
   "metadata": {},
   "source": [
    "Column Current Yearly Compensation"
   ]
  },
  {
   "cell_type": "code",
   "execution_count": 11,
   "id": "ba96477d",
   "metadata": {},
   "outputs": [
    {
     "data": {
      "text/plain": [
       "array([nan, '10-20K', '0-10K', 'Unknown', '20-30K', '100-250K', '30-40K',\n",
       "       '50-60K', '90-100K', '70-80K', '80-90K', '60-70K', '250-500K',\n",
       "       '40-50K', '>500K'], dtype=object)"
      ]
     },
     "execution_count": 11,
     "metadata": {},
     "output_type": "execute_result"
    }
   ],
   "source": [
    "dfall['Current_Yearly_Compensation'] = dfall['Current_Yearly_Compensation'].str.replace(r'\\s+', '', regex=True)\n",
    "\n",
    "dfall[\"Current_Yearly_Compensation\"] = dfall[\"Current_Yearly_Compensation\"].replace({\"10-20,000\": \"10-20K\",\n",
    "                                                                                     \"0-10,000\": \"0-10K\",\n",
    "                                                                                     \"Idonotwishtodisclosemyapproximateyearlycompensation\": \"Unknown\",\n",
    "                                                                                     \"I do not wish to disclose my approximate yearly compensation\": \"Unknown\",\n",
    "                                                                                     \"20-30,000\": \"20-30K\",\n",
    "                                                                                     \"125-150,000\": \"100-250K\",\n",
    "                                                                                     \"30-40,000\": \"30-40K\",\n",
    "                                                                                     \"50-60,000\": \"50-60K\",\n",
    "                                                                                     \"100-125,000\": \"100-250K\",\n",
    "                                                                                     \"90-100,000\": \"90-100K\",\n",
    "                                                                                     \"70-80,000\": \"70-80K\",\n",
    "                                                                                     \"80-90,000\": \"80-90K\",\n",
    "                                                                                     \"60-70,000\": \"60-70K\",\n",
    "                                                                                     \"400-500,000\": \"250-500K\",\n",
    "                                                                                     \"40-50,000\": \"40-50K\",\n",
    "                                                                                     \"150-200,000\": \"100-250K\",\n",
    "                                                                                     \"500,000+\": \">500K\",\n",
    "                                                                                     \"300-400,000\": \"250-500K\",\n",
    "                                                                                     \"200-250,000\": \"100-250K\",\n",
    "                                                                                     \"250-300,000\": \"250-500K\",\n",
    "                                                                                     \"30,000-39,999\": \"30-40K\",\n",
    "                                                                                     \"5,000-7,499\": \"0-10K\",\n",
    "                                                                                     \"250,000-299,999\": \"250-500K\",\n",
    "                                                                                     \"4,000-4,999\": \"0-10K\",\n",
    "                                                                                     \"60,000-69,999\": \"60-70K\",\n",
    "                                                                                     \"10,000-14,999\": \"10-20K\",\n",
    "                                                                                     \"80,000-89,999\": \"80-90K\",\n",
    "                                                                                     \"$0-999\": \"0-10K\",\n",
    "                                                                                     \"2,000-2,999\": \"0-10K\",\n",
    "                                                                                     \"70,000-79,999\": \"70-80K\",\n",
    "                                                                                     \"90,000-99,999\": \"90-100K\",\n",
    "                                                                                     \"125,000-149,999\": \"100-250K\",\n",
    "                                                                                     \"40,000-49,999\": \"40-50K\",\n",
    "                                                                                     \"20,000-24,999\": \"20-30K\",\n",
    "                                                                                     \"15,000-19,999\": \"10-20K\",\n",
    "                                                                                     \"100,000-124,999\": \"100-250K\",\n",
    "                                                                                     \"7,500-9,999\": \"0-10K\",\n",
    "                                                                                     \"150,000-199,999\": \"100-250K\",\n",
    "                                                                                     \"25,000-29,999\": \"20-30K\",\n",
    "                                                                                     \"3,000-3,999\": \"0-10K\",\n",
    "                                                                                     \"1,000-1,999\": \"0-10K\",\n",
    "                                                                                     \"200,000-249,999\": \"250-500K\",\n",
    "                                                                                     \"50,000-59,999\": \"50-60K\",\n",
    "                                                                                     \"> $500,000\": \">500K\",\n",
    "                                                                                     \"300,000-500,000\": \"250-500K\",\n",
    "                                                                                     \"300,000-499,999\": \"250-500K\",\n",
    "                                                                                     \">$1,000,000\": \">500K\",\n",
    "                                                                                     \"$500,000-999,999\": \">500K\",\n",
    "                                                                                     \">$500,000\": \">500K\"})\n",
    "\n",
    "dfall[\"Current_Yearly_Compensation\"].unique()"
   ]
  },
  {
   "cell_type": "markdown",
   "id": "c5bd1bdd",
   "metadata": {},
   "source": [
    "Column Time Writing Code"
   ]
  },
  {
   "cell_type": "code",
   "execution_count": 12,
   "id": "17633fbc",
   "metadata": {},
   "outputs": [
    {
     "data": {
      "text/plain": [
       "array(['0', '5-10', '3-5', '0-3', '10-20', '20+', nan], dtype=object)"
      ]
     },
     "execution_count": 12,
     "metadata": {},
     "output_type": "execute_result"
    }
   ],
   "source": [
    "dfall[\"Time_Writing_Code\"] = dfall['Time_Writing_Code'].str.replace(r'\\s*years?$', '', regex=True)\n",
    "\n",
    "dfall[\"Time_Writing_Code\"].unique()\n",
    "\n",
    "dfall[\"Time_Writing_Code\"] = dfall[\"Time_Writing_Code\"].replace({\"I have never written code but I want to learn\": \"0\",\n",
    "                                    \"I have never written code and I do not want to learn\": \"0\",\n",
    "                                    \"I have never written code\": \"0\",\n",
    "                                    \"0\": \"0\",\n",
    "                                    \"< 1\": \"0-3\",\n",
    "                                    \"1-2\": \"0-3\",\n",
    "                                    \"3-5\": \"3-5\",\n",
    "                                    \"5-10\": \"5-10\",\n",
    "                                    \"10-20\": \"10-20\",\n",
    "                                    \"20-30\": \"20+\",\n",
    "                                    \"30-40\": \"20+\",\n",
    "                                    \"20+\": \"20+\",\n",
    "                                    \"40+\": \"20+\",\n",
    "                                    \"1-3\": \"0-3\",\n",
    "                                    \"40-50\": \"20+\"\n",
    "                                    })\n",
    "\n",
    "dfall[\"Time_Writing_Code\"].unique()\n",
    "\n"
   ]
  },
  {
   "cell_type": "markdown",
   "id": "3984a250",
   "metadata": {},
   "source": [
    "Column Time Using Machine Learning Methods"
   ]
  },
  {
   "cell_type": "code",
   "execution_count": 13,
   "id": "8b44733c",
   "metadata": {},
   "outputs": [
    {
     "data": {
      "text/plain": [
       "array(['0', '0-3', '3-5', '5-10', '20+', '10-20', nan], dtype=object)"
      ]
     },
     "execution_count": 13,
     "metadata": {},
     "output_type": "execute_result"
    }
   ],
   "source": [
    "dfall[\"Time_Using_Machine_Learning_Methods\"] = dfall['Time_Using_Machine_Learning_Methods'].str.replace(r'\\s*years?$', '', regex=True)\n",
    "\n",
    "dfall[\"Time_Using_Machine_Learning_Methods\"].unique()\n",
    "\n",
    "dfall[\"Time_Using_Machine_Learning_Methods\"] = dfall[\"Time_Using_Machine_Learning_Methods\"].replace({\"'I have never studied machine learning but plan to learn in the future\": \"0\",\n",
    "                                    \"< 1\": \"0-3\",\n",
    "                                    \"4-5\": \"3-5\",\n",
    "                                    \"2-3\": \"0-3\",\n",
    "                                    \"1-2\": \"0-3\",\n",
    "                                    \"3-4\": \"3-5\",\n",
    "                                    \"I have never studied machine learning and I do not plan to\": \"0\",\n",
    "                                    \"I have never studied machine learning but plan to learn in the future\": \"0\",\n",
    "                                    \"10-15\": \"10-20\",\n",
    "                                    \"I do not use machine learning methods\": \"0\",\n",
    "                                    \"Under 1\": \"0-3\",\n",
    "                                    \"20 or more\": \"20+\",\n",
    "                                    \"10-20\": \"10-20\"})\n",
    "\n",
    "dfall[\"Time_Using_Machine_Learning_Methods\"].unique()"
   ]
  },
  {
   "cell_type": "markdown",
   "id": "7eb006c0",
   "metadata": {},
   "source": [
    "Column Primary Tool Used For Data Analysis"
   ]
  },
  {
   "cell_type": "code",
   "execution_count": 14,
   "id": "b5d0b09b",
   "metadata": {},
   "outputs": [
    {
     "data": {
      "text/plain": [
       "array(['Cloud-based & APIs', 'Basic', 'Local DE', 'Advanced', 'Other',\n",
       "       'BI', nan], dtype=object)"
      ]
     },
     "execution_count": 14,
     "metadata": {},
     "output_type": "execute_result"
    }
   ],
   "source": [
    "dfall[\"Primary_Tool_Used_For_Data_Analysis\"] = dfall[\"Primary_Tool_Used_For_Data_Analysis\"].replace({\"Basic statistical software (Microsoft Excel, Google Sheets, etc.)\": \"Basic\",\n",
    "                                                                                                 \"Business intelligence software (Salesforce, Tableau, Spotfire, etc.)\": \"BI\",\n",
    "                                                                                                  \"Local development environments (RStudio, JupyterLab, etc.)\": \"Local DE\",\n",
    "                                                                                                  \"Local or hosted development environments (RStudio, JupyterLab, etc.)\": \"Local DE\", \n",
    "                                                                                                  \"Cloud-based data software & APIs (AWS, GCP, Azure, etc.)\": \"Cloud-based & APIs\",\n",
    "                                                                                                  \"Advanced statistical software (SPSS, SAS, etc.)\": \"Advanced\"\n",
    " })\n",
    "dfall[\"Primary_Tool_Used_For_Data_Analysis\"].unique()"
   ]
  },
  {
   "cell_type": "markdown",
   "id": "cc17a397",
   "metadata": {},
   "source": [
    "Column Data Science Courses Cloud Certification Programs"
   ]
  },
  {
   "cell_type": "code",
   "execution_count": 15,
   "id": "86e36c17",
   "metadata": {},
   "outputs": [
    {
     "data": {
      "text/plain": [
       "array([nan, 'Cloud-certification'], dtype=object)"
      ]
     },
     "execution_count": 15,
     "metadata": {},
     "output_type": "execute_result"
    }
   ],
   "source": [
    "dfall[\"Data_Science_Courses_Cloud_Certification_Programs\"].unique()\n",
    "\n",
    "dfall[\"Data_Science_Courses_Cloud_Certification_Programs\"] = dfall[\"Data_Science_Courses_Cloud_Certification_Programs\"].replace({\"Cloud-certification programs (direct from AWS, Azure, GCP, or similar)\":\"Cloud-certification\"})\n",
    "\n",
    "dfall[\"Data_Science_Courses_Cloud_Certification_Programs\"].unique()"
   ]
  },
  {
   "cell_type": "markdown",
   "id": "080abc43",
   "metadata": {},
   "source": [
    "Column Data Science Courses Developers.Google.Com"
   ]
  },
  {
   "cell_type": "code",
   "execution_count": 16,
   "id": "cbf2f848",
   "metadata": {},
   "outputs": [
    {
     "data": {
      "text/plain": [
       "array([nan, 'Google Developers'], dtype=object)"
      ]
     },
     "execution_count": 16,
     "metadata": {},
     "output_type": "execute_result"
    }
   ],
   "source": [
    "dfall[\"Data_Science_Courses_Developers.Google.Com\"] = dfall[\"Data_Science_Courses_Developers.Google.Com\"].replace({\"developers.google.com\": \"Google Developers\"})\n",
    "\n",
    "dfall[\"Data_Science_Courses_Developers.Google.Com\"].unique()"
   ]
  },
  {
   "cell_type": "markdown",
   "id": "f2674aa9",
   "metadata": {},
   "source": [
    "Column Data Science Courses Fast.Ai"
   ]
  },
  {
   "cell_type": "code",
   "execution_count": 17,
   "id": "1fa997ce",
   "metadata": {},
   "outputs": [
    {
     "data": {
      "text/plain": [
       "array([nan, 'Fast.ai'], dtype=object)"
      ]
     },
     "execution_count": 17,
     "metadata": {},
     "output_type": "execute_result"
    }
   ],
   "source": [
    "dfall[\"Data_Science_Courses_Fast.Ai\"].unique()\n",
    "\n",
    "dfall[\"Data_Science_Courses_Fast.Ai\"] = dfall[\"Data_Science_Courses_Fast.Ai\"].replace({\"Fast.AI\":\"Fast.ai\"})\n",
    "\n",
    "dfall[\"Data_Science_Courses_Fast.Ai\"].unique()"
   ]
  },
  {
   "cell_type": "markdown",
   "id": "0c9c4e2b",
   "metadata": {},
   "source": [
    "Column Data Science Courses Kaggle Courses"
   ]
  },
  {
   "cell_type": "code",
   "execution_count": 18,
   "id": "d2da6020",
   "metadata": {},
   "outputs": [
    {
     "data": {
      "text/plain": [
       "array([nan, 'Kaggle'], dtype=object)"
      ]
     },
     "execution_count": 18,
     "metadata": {},
     "output_type": "execute_result"
    }
   ],
   "source": [
    "dfall[\"Data_Science_Courses_Kaggle_Courses\"].unique()\n",
    "\n",
    "dfall['Data_Science_Courses_Kaggle_Courses'] = dfall['Data_Science_Courses_Kaggle_Courses'].apply(lambda x: 'Kaggle' if 'Kaggle' in str(x) else x)\n",
    "\n",
    "dfall[\"Data_Science_Courses_Kaggle_Courses\"].unique()"
   ]
  },
  {
   "cell_type": "markdown",
   "id": "6c9a5f21",
   "metadata": {},
   "source": [
    "Column University Courses"
   ]
  },
  {
   "cell_type": "code",
   "execution_count": 19,
   "id": "3f9e1001",
   "metadata": {},
   "outputs": [
    {
     "data": {
      "text/plain": [
       "array([nan, 'University'], dtype=object)"
      ]
     },
     "execution_count": 19,
     "metadata": {},
     "output_type": "execute_result"
    }
   ],
   "source": [
    "dfall[\"Data_Science_Courses_University_Courses\"].unique()\n",
    "\n",
    "dfall[\"Data_Science_Courses_University_Courses\"] = dfall[\"Data_Science_Courses_University_Courses\"].replace({\"Online University Courses\": \"University\",\n",
    "                                                                                                             \"University Courses (resulting in a university degree)\": \"University\"})\n",
    "dfall[\"Data_Science_Courses_University_Courses\"].unique()"
   ]
  },
  {
   "cell_type": "markdown",
   "id": "bbfc35c9",
   "metadata": {},
   "source": [
    "Column Data Visualization Libraries D3 Js"
   ]
  },
  {
   "cell_type": "code",
   "execution_count": 20,
   "id": "1777a78f",
   "metadata": {},
   "outputs": [
    {
     "data": {
      "text/plain": [
       "array([nan, 'D3 js'], dtype=object)"
      ]
     },
     "execution_count": 20,
     "metadata": {},
     "output_type": "execute_result"
    }
   ],
   "source": [
    "dfall[\"Data_Visualization_Libraries_D3_Js\"].unique()\n",
    "\n",
    "dfall[\"Data_Visualization_Libraries_D3_Js\"] = dfall[\"Data_Visualization_Libraries_D3_Js\"].replace({\"D3\":\"D3 js\",\n",
    "                                                                                                   \"D3.js\": \"D3 js\",\n",
    "                                                                                                   \"D3 js\": \"D3 js\"})\n",
    "dfall[\"Data_Visualization_Libraries_D3_Js\"].unique()"
   ]
  },
  {
   "cell_type": "markdown",
   "id": "cabd26c9",
   "metadata": {},
   "source": [
    "Column Data Visualization Libraries Ggplot2"
   ]
  },
  {
   "cell_type": "code",
   "execution_count": 21,
   "id": "57d01d9b",
   "metadata": {},
   "outputs": [
    {
     "data": {
      "text/plain": [
       "array([nan, 'Ggplot2'], dtype=object)"
      ]
     },
     "execution_count": 21,
     "metadata": {},
     "output_type": "execute_result"
    }
   ],
   "source": [
    "dfall[\"Data_Visualization_Libraries_Ggplot2\"].unique()\n",
    "\n",
    "dfall[\"Data_Visualization_Libraries_Ggplot2\"] = dfall[\"Data_Visualization_Libraries_Ggplot2\"].replace({\"ggplot2\": \"Ggplot2\"})\n",
    "\n",
    "dfall[\"Data_Visualization_Libraries_Ggplot2\"].unique()"
   ]
  },
  {
   "cell_type": "markdown",
   "id": "52327882",
   "metadata": {},
   "source": [
    "Column Ide's Jupyter"
   ]
  },
  {
   "cell_type": "code",
   "execution_count": 22,
   "id": "50e11973",
   "metadata": {},
   "outputs": [
    {
     "data": {
      "text/plain": [
       "array(['Jupyter', nan], dtype=object)"
      ]
     },
     "execution_count": 22,
     "metadata": {},
     "output_type": "execute_result"
    }
   ],
   "source": [
    "dfall[\"Ide's_Jupyter\"].unique()\n",
    "\n",
    "dfall[\"Ide's_Jupyter\"] = dfall[\"Ide's_Jupyter\"].replace({\"Jupyter/IPython\": \"Jupyter\",\n",
    "                                                         \"Jupyter (JupyterLab, Jupyter Notebooks, etc)\": \"Jupyter\",\n",
    "                                                         \"Jupyter (JupyterLab, Jupyter Notebooks, etc) / Jupyter Notebook\": \"Jupyter\"})\n",
    "dfall[\"Ide's_Jupyter\"].unique()"
   ]
  },
  {
   "cell_type": "markdown",
   "id": "f3311e1f",
   "metadata": {},
   "source": [
    "Column Ide's Visual Studio Code"
   ]
  },
  {
   "cell_type": "code",
   "execution_count": 23,
   "id": "1f0db079",
   "metadata": {},
   "outputs": [
    {
     "data": {
      "text/plain": [
       "array([nan, 'VS Code'], dtype=object)"
      ]
     },
     "execution_count": 23,
     "metadata": {},
     "output_type": "execute_result"
    }
   ],
   "source": [
    "dfall[\"Ide's_Visual_Studio_Code\"].unique()\n",
    "\n",
    "dfall[\"Ide's_Visual_Studio_Code\"] = dfall[\"Ide's_Visual_Studio_Code\"].replace({\"Visual Studio Code\": \"VS Code\",\n",
    "                                                                               \"Visual Studio Code (VSCode)\": \"VS Code\"})\n",
    "dfall[\"Ide's_Visual_Studio_Code\"].unique()"
   ]
  },
  {
   "cell_type": "markdown",
   "id": "a6f7ea41",
   "metadata": {},
   "source": [
    "Column Machine Learning Frameworks Catboost"
   ]
  },
  {
   "cell_type": "code",
   "execution_count": 24,
   "id": "70f5f8ee",
   "metadata": {},
   "outputs": [
    {
     "data": {
      "text/plain": [
       "array([nan, 'CatBoost'], dtype=object)"
      ]
     },
     "execution_count": 24,
     "metadata": {},
     "output_type": "execute_result"
    }
   ],
   "source": [
    "dfall[\"Machine_Learning_Frameworks_Catboost\"].unique()\n",
    "\n",
    "dfall[\"Machine_Learning_Frameworks_Catboost\"] = dfall[\"Machine_Learning_Frameworks_Catboost\"].replace({\"catboost\": \"CatBoost\"})\n",
    "\n",
    "dfall[\"Machine_Learning_Frameworks_Catboost\"].unique()"
   ]
  },
  {
   "cell_type": "markdown",
   "id": "3645000c",
   "metadata": {},
   "source": [
    "Column Machine Learning Frameworks Fast.Ai"
   ]
  },
  {
   "cell_type": "code",
   "execution_count": 25,
   "id": "978d218c",
   "metadata": {},
   "outputs": [
    {
     "data": {
      "text/plain": [
       "array([nan, 'Fast.ai'], dtype=object)"
      ]
     },
     "execution_count": 25,
     "metadata": {},
     "output_type": "execute_result"
    }
   ],
   "source": [
    "dfall[\"Machine_Learning_Frameworks_Fast.Ai\"].unique()\n",
    "\n",
    "dfall[\"Machine_Learning_Frameworks_Fast.Ai\"] = dfall[\"Machine_Learning_Frameworks_Fast.Ai\"].replace({\"Fastai\": \"Fast.ai\"})\n",
    "\n",
    "dfall[\"Machine_Learning_Frameworks_Fast.Ai\"].unique()"
   ]
  },
  {
   "cell_type": "markdown",
   "id": "ff0218a6",
   "metadata": {},
   "source": [
    "Column Machine Learning Frameworks LightGBM"
   ]
  },
  {
   "cell_type": "code",
   "execution_count": 26,
   "id": "e20eacf0",
   "metadata": {},
   "outputs": [
    {
     "data": {
      "text/plain": [
       "array([nan, 'LightGBM'], dtype=object)"
      ]
     },
     "execution_count": 26,
     "metadata": {},
     "output_type": "execute_result"
    }
   ],
   "source": [
    "dfall[\"Machine_Learning_Frameworks_Lightgbm\"].unique()\n",
    "\n",
    "dfall[\"Machine_Learning_Frameworks_Lightgbm\"] = dfall[\"Machine_Learning_Frameworks_Lightgbm\"].replace({\"lightgbm\": \"LightGBM\"})\n",
    "\n",
    "dfall[\"Machine_Learning_Frameworks_Lightgbm\"].unique()"
   ]
  },
  {
   "cell_type": "markdown",
   "id": "d32ac6d8",
   "metadata": {},
   "source": [
    "Column Machine Learning Frameworks Mlr"
   ]
  },
  {
   "cell_type": "code",
   "execution_count": 27,
   "id": "9f89be6a",
   "metadata": {},
   "outputs": [
    {
     "data": {
      "text/plain": [
       "array([nan, 'Mlr'], dtype=object)"
      ]
     },
     "execution_count": 27,
     "metadata": {},
     "output_type": "execute_result"
    }
   ],
   "source": [
    "dfall[\"Machine_Learning_Frameworks_Mlr\"].unique()\n",
    "\n",
    "dfall[\"Machine_Learning_Frameworks_Mlr\"] = dfall[\"Machine_Learning_Frameworks_Mlr\"].replace({\"mlr\": \"Mlr\"})\n",
    "\n",
    "dfall[\"Machine_Learning_Frameworks_Mlr\"].unique()"
   ]
  },
  {
   "cell_type": "markdown",
   "id": "a60b9319",
   "metadata": {},
   "source": [
    "Column Machine Learning Frameworks Mxnet"
   ]
  },
  {
   "cell_type": "code",
   "execution_count": 28,
   "id": "6d325709",
   "metadata": {},
   "outputs": [
    {
     "data": {
      "text/plain": [
       "array([nan, 'Mxnet'], dtype=object)"
      ]
     },
     "execution_count": 28,
     "metadata": {},
     "output_type": "execute_result"
    }
   ],
   "source": [
    "dfall[\"Machine_Learning_Frameworks_Mxnet\"].unique()\n",
    "\n",
    "dfall[\"Machine_Learning_Frameworks_Mxnet\"] = dfall[\"Machine_Learning_Frameworks_Mxnet\"].replace({\"MXNet\": \"Mxnet\"})\n",
    "\n",
    "dfall[\"Machine_Learning_Frameworks_Mxnet\"].unique()"
   ]
  },
  {
   "cell_type": "markdown",
   "id": "fbaf86cc",
   "metadata": {},
   "source": [
    "Column Machine Learning Frameworks Randomforest"
   ]
  },
  {
   "cell_type": "code",
   "execution_count": 29,
   "id": "61ac2570",
   "metadata": {},
   "outputs": [
    {
     "data": {
      "text/plain": [
       "array([nan, 'RandomForest'], dtype=object)"
      ]
     },
     "execution_count": 29,
     "metadata": {},
     "output_type": "execute_result"
    }
   ],
   "source": [
    "dfall[\"Machine_Learning_Frameworks_Randomforest\"].unique()\n",
    "\n",
    "dfall[\"Machine_Learning_Frameworks_Randomforest\"] = dfall[\"Machine_Learning_Frameworks_Randomforest\"].replace({\"randomForest\": \"RandomForest\"})\n",
    "\n",
    "dfall[\"Machine_Learning_Frameworks_Randomforest\"].unique()"
   ]
  },
  {
   "cell_type": "markdown",
   "id": "657f1cc1",
   "metadata": {},
   "source": [
    "Column Machine Learning Frameworks Scikit-Learn"
   ]
  },
  {
   "cell_type": "code",
   "execution_count": 30,
   "id": "5f1cf20d",
   "metadata": {},
   "outputs": [
    {
     "data": {
      "text/plain": [
       "array([nan, 'Scikit-Learn', 'Scikit_Learn'], dtype=object)"
      ]
     },
     "execution_count": 30,
     "metadata": {},
     "output_type": "execute_result"
    }
   ],
   "source": [
    "dfall[\"Machine_Learning_Frameworks_Scikit_Learn\"].unique()\n",
    "\n",
    "dfall[\"Machine_Learning_Frameworks_Scikit_Learn\"] = dfall[\"Machine_Learning_Frameworks_Scikit_Learn\"].replace({\"Scikit-learn\": \"Scikit_Learn\",\n",
    "                                                                                                               \"Scikit_Learn\": \"Scikit-Learn\"})\n",
    "dfall[\"Machine_Learning_Frameworks_Scikit_Learn\"].unique()"
   ]
  },
  {
   "cell_type": "markdown",
   "id": "56512d2b",
   "metadata": {},
   "source": [
    "Column Machine Learning Frameworks Spark MLlib"
   ]
  },
  {
   "cell_type": "code",
   "execution_count": 31,
   "id": "bd092eab",
   "metadata": {},
   "outputs": [
    {
     "data": {
      "text/plain": [
       "array([nan, 'Spark MLlib'], dtype=object)"
      ]
     },
     "execution_count": 31,
     "metadata": {},
     "output_type": "execute_result"
    }
   ],
   "source": [
    "dfall[\"Machine_Learning_Frameworks_Spark_Mllib\"].unique()\n",
    "\n",
    "dfall[\"Machine_Learning_Frameworks_Spark_Mllib\"] = dfall[\"Machine_Learning_Frameworks_Spark_Mllib\"].replace({\"Spark MLib\": \"Spark MLlib\"})\n",
    "\n",
    "dfall[\"Machine_Learning_Frameworks_Spark_Mllib\"].unique()"
   ]
  },
  {
   "cell_type": "markdown",
   "id": "2c9e76c8",
   "metadata": {},
   "source": [
    "Column Notebook Products Amazon Emr Notebooks"
   ]
  },
  {
   "cell_type": "code",
   "execution_count": 32,
   "id": "2b050259",
   "metadata": {},
   "outputs": [
    {
     "data": {
      "text/plain": [
       "array([nan, 'Amazon EMR'], dtype=object)"
      ]
     },
     "execution_count": 32,
     "metadata": {},
     "output_type": "execute_result"
    }
   ],
   "source": [
    "dfall[\"Notebook_Products_Amazon_Emr_Notebooks\"].unique()\n",
    "\n",
    "dfall[\"Notebook_Products_Amazon_Emr_Notebooks\"] = dfall[\"Notebook_Products_Amazon_Emr_Notebooks\"].replace({\"Amazon EMR Notebooks\": \"Amazon EMR\"})\n",
    "\n",
    "dfall[\"Notebook_Products_Amazon_Emr_Notebooks\"].unique()"
   ]
  },
  {
   "cell_type": "markdown",
   "id": "27b48c51",
   "metadata": {},
   "source": [
    "Column Notebook Products Amazon Sagemaker Studio"
   ]
  },
  {
   "cell_type": "code",
   "execution_count": 33,
   "id": "f29e1f6d",
   "metadata": {},
   "outputs": [
    {
     "data": {
      "text/plain": [
       "array([nan, 'Amazon Sagemaker Studio'], dtype=object)"
      ]
     },
     "execution_count": 33,
     "metadata": {},
     "output_type": "execute_result"
    }
   ],
   "source": [
    "dfall[\"Notebook_Products_Amazon_Sagemaker_Studio\"].unique()\n",
    "\n",
    "dfall[\"Notebook_Products_Amazon_Sagemaker_Studio\"] = dfall[\"Notebook_Products_Amazon_Sagemaker_Studio\"].replace({\"Amazon Sagemaker Studio Notebooks\": \"Amazon Sagemaker Studio\"})\n",
    "\n",
    "dfall[\"Notebook_Products_Amazon_Sagemaker_Studio\"].unique()"
   ]
  },
  {
   "cell_type": "markdown",
   "id": "b6949943",
   "metadata": {},
   "source": [
    "Column Notebook Products Aws Notebook"
   ]
  },
  {
   "cell_type": "code",
   "execution_count": 34,
   "id": "2277f7d9",
   "metadata": {},
   "outputs": [
    {
     "data": {
      "text/plain": [
       "array([nan, 'AWS Notebook Products'], dtype=object)"
      ]
     },
     "execution_count": 34,
     "metadata": {},
     "output_type": "execute_result"
    }
   ],
   "source": [
    "dfall[\"Notebook_Products_Aws_Notebook\"].unique()\n",
    "\n",
    "dfall[\"Notebook_Products_Aws_Notebook\"] = dfall[\"Notebook_Products_Aws_Notebook\"].replace({\"AWS Notebook Products (EMR Notebooks, Sagemaker Notebooks, etc)\": \"AWS Notebook Products\"})\n",
    "\n",
    "dfall[\"Notebook_Products_Aws_Notebook\"].unique()"
   ]
  },
  {
   "cell_type": "markdown",
   "id": "723fc796",
   "metadata": {},
   "source": [
    "Column Notebook Products Azure Notebooks"
   ]
  },
  {
   "cell_type": "code",
   "execution_count": 35,
   "id": "bbb49ce5",
   "metadata": {},
   "outputs": [
    {
     "data": {
      "text/plain": [
       "array([nan, 'Azure'], dtype=object)"
      ]
     },
     "execution_count": 35,
     "metadata": {},
     "output_type": "execute_result"
    }
   ],
   "source": [
    "dfall[\"Notebook_Products_Azure_Notebooks\"].unique()\n",
    "\n",
    "dfall['Notebook_Products_Azure_Notebooks'] = dfall['Notebook_Products_Azure_Notebooks'].apply(lambda x: 'Azure' if isinstance(x, str) and 'azure' in x.lower() else x)\n",
    "\n",
    "dfall[\"Notebook_Products_Azure_Notebooks\"].unique()"
   ]
  },
  {
   "cell_type": "markdown",
   "id": "dccaa451",
   "metadata": {},
   "source": [
    "Column Notebook Products Google Colab"
   ]
  },
  {
   "cell_type": "code",
   "execution_count": 36,
   "id": "83972a0c",
   "metadata": {},
   "outputs": [
    {
     "data": {
      "text/plain": [
       "array([nan, 'Google Colab'], dtype=object)"
      ]
     },
     "execution_count": 36,
     "metadata": {},
     "output_type": "execute_result"
    }
   ],
   "source": [
    "dfall[\"Notebook_Products_Colab_Notebooks\"].unique()\n",
    "\n",
    "dfall[\"Notebook_Products_Colab_Notebooks\"] = dfall[\"Notebook_Products_Colab_Notebooks\"].replace({\"Colab Notebooks\": \"Google Colab\"})\n",
    "\n",
    "dfall[\"Notebook_Products_Colab_Notebooks\"].unique()"
   ]
  },
  {
   "cell_type": "markdown",
   "id": "ea836d6d",
   "metadata": {},
   "source": [
    "Column Notebook Products Databricks Collaborative Notebooks"
   ]
  },
  {
   "cell_type": "code",
   "execution_count": 37,
   "id": "623dadd8",
   "metadata": {},
   "outputs": [
    {
     "data": {
      "text/plain": [
       "array([nan, 'Databricks Collaborative'], dtype=object)"
      ]
     },
     "execution_count": 37,
     "metadata": {},
     "output_type": "execute_result"
    }
   ],
   "source": [
    "dfall[\"Notebook_Products_Databricks_Collaborative_Notebooks\"].unique()\n",
    "\n",
    "dfall[\"Notebook_Products_Databricks_Collaborative_Notebooks\"] = dfall[\"Notebook_Products_Databricks_Collaborative_Notebooks\"].replace({\"Databricks Collaborative Notebooks\": \"Databricks Collaborative\"})\n",
    "\n",
    "dfall[\"Notebook_Products_Databricks_Collaborative_Notebooks\"].unique()"
   ]
  },
  {
   "cell_type": "markdown",
   "id": "93c2e234",
   "metadata": {},
   "source": [
    "Column Notebook Products Deepnote Notebooks"
   ]
  },
  {
   "cell_type": "code",
   "execution_count": 38,
   "id": "846d40ee",
   "metadata": {},
   "outputs": [
    {
     "data": {
      "text/plain": [
       "array([nan, 'Deepnote'], dtype=object)"
      ]
     },
     "execution_count": 38,
     "metadata": {},
     "output_type": "execute_result"
    }
   ],
   "source": [
    "dfall[\"Notebook_Products_Deepnote_Notebooks\"].unique()\n",
    "\n",
    "dfall[\"Notebook_Products_Deepnote_Notebooks\"] = dfall[\"Notebook_Products_Deepnote_Notebooks\"].replace({\"Deepnote Notebooks\": \"Deepnote\"})\n",
    "\n",
    "dfall[\"Notebook_Products_Deepnote_Notebooks\"].unique()"
   ]
  },
  {
   "cell_type": "markdown",
   "id": "23879396",
   "metadata": {},
   "source": [
    "Column Notebook Products Floydhub"
   ]
  },
  {
   "cell_type": "code",
   "execution_count": 39,
   "id": "12cfebd4",
   "metadata": {},
   "outputs": [
    {
     "data": {
      "text/plain": [
       "array([nan, 'FloydHub'], dtype=object)"
      ]
     },
     "execution_count": 39,
     "metadata": {},
     "output_type": "execute_result"
    }
   ],
   "source": [
    "dfall[\"Notebook_Products_Floydhub\"].unique()\n",
    "\n",
    "dfall[\"Notebook_Products_Floydhub\"] = dfall[\"Notebook_Products_Floydhub\"].replace({\"Floydhub\": \"FloydHub\"})\n",
    "\n",
    "dfall[\"Notebook_Products_Floydhub\"].unique()"
   ]
  },
  {
   "cell_type": "markdown",
   "id": "dde23b47",
   "metadata": {},
   "source": [
    "Column Notebook Products Google Cloud Datalab Notebooks"
   ]
  },
  {
   "cell_type": "code",
   "execution_count": 40,
   "id": "956b5461",
   "metadata": {},
   "outputs": [
    {
     "data": {
      "text/plain": [
       "array([nan, 'Google Cloud Datalab'], dtype=object)"
      ]
     },
     "execution_count": 40,
     "metadata": {},
     "output_type": "execute_result"
    }
   ],
   "source": [
    "dfall[\"Notebook_Products_Google_Cloud_Datalab_Notebooks\"].unique()\n",
    "\n",
    "dfall[\"Notebook_Products_Google_Cloud_Datalab_Notebooks\"] = dfall[\"Notebook_Products_Google_Cloud_Datalab_Notebooks\"].replace({\"Google Cloud Datalab Notebooks\": \"Google Cloud Datalab\"})\n",
    "\n",
    "dfall[\"Notebook_Products_Google_Cloud_Datalab_Notebooks\"].unique()"
   ]
  },
  {
   "cell_type": "markdown",
   "id": "b03eda93",
   "metadata": {},
   "source": [
    "Column Notebook Products Google Cloud Notebooks"
   ]
  },
  {
   "cell_type": "code",
   "execution_count": 41,
   "id": "b35c0b44",
   "metadata": {},
   "outputs": [
    {
     "data": {
      "text/plain": [
       "array([nan, 'Google Cloud'], dtype=object)"
      ]
     },
     "execution_count": 41,
     "metadata": {},
     "output_type": "execute_result"
    }
   ],
   "source": [
    "dfall[\"Notebook_Products_Google_Cloud_Notebooks\"].unique()\n",
    "\n",
    "dfall['Notebook_Products_Google_Cloud_Notebooks'] = dfall['Notebook_Products_Google_Cloud_Notebooks'].apply(lambda x: 'Google Cloud' if isinstance(x, str) and 'google cloud' in x.lower() else x)\n",
    "\n",
    "dfall[\"Notebook_Products_Google_Cloud_Notebooks\"].unique()"
   ]
  },
  {
   "cell_type": "markdown",
   "id": "0b7081e8",
   "metadata": {},
   "source": [
    "Column Notebook Products Kaggle Notebooks"
   ]
  },
  {
   "cell_type": "code",
   "execution_count": 42,
   "id": "3d93cd39",
   "metadata": {},
   "outputs": [
    {
     "data": {
      "text/plain": [
       "array([nan, 'Kaggle'], dtype=object)"
      ]
     },
     "execution_count": 42,
     "metadata": {},
     "output_type": "execute_result"
    }
   ],
   "source": [
    "dfall[\"Notebook_Products_Kaggle_Notebooks\"].unique()\n",
    "\n",
    "dfall['Notebook_Products_Kaggle_Notebooks'] = dfall['Notebook_Products_Kaggle_Notebooks'].apply(lambda x: 'Kaggle' if isinstance(x, str) and 'Kaggle' in x else x)\n",
    "\n",
    "dfall[\"Notebook_Products_Kaggle_Notebooks\"].unique()"
   ]
  },
  {
   "cell_type": "markdown",
   "id": "bfd1d08a",
   "metadata": {},
   "source": [
    "Column Notebook Products Observable Notebooks"
   ]
  },
  {
   "cell_type": "code",
   "execution_count": 43,
   "id": "3ef00484",
   "metadata": {},
   "outputs": [
    {
     "data": {
      "text/plain": [
       "array([nan, 'Observable'], dtype=object)"
      ]
     },
     "execution_count": 43,
     "metadata": {},
     "output_type": "execute_result"
    }
   ],
   "source": [
    "dfall[\"Notebook_Products_Observable_Notebooks\"].unique()\n",
    "\n",
    "dfall[\"Notebook_Products_Observable_Notebooks\"] = dfall[\"Notebook_Products_Observable_Notebooks\"].replace({\"Observable Notebooks\": \"Observable\"})\n",
    "\n",
    "dfall[\"Notebook_Products_Observable_Notebooks\"].unique()"
   ]
  },
  {
   "cell_type": "markdown",
   "id": "f4d7a8d5",
   "metadata": {},
   "source": [
    "Column Programming Languages Typescript"
   ]
  },
  {
   "cell_type": "code",
   "execution_count": 44,
   "id": "cd3d1ccd",
   "metadata": {},
   "outputs": [
    {
     "data": {
      "text/plain": [
       "array([nan, 'TypeScript'], dtype=object)"
      ]
     },
     "execution_count": 44,
     "metadata": {},
     "output_type": "execute_result"
    }
   ],
   "source": [
    "dfall[\"Programming_Languages_Typescript\"].unique()\n",
    "\n",
    "dfall[\"Programming_Languages_Typescript\"] = dfall[\"Programming_Languages_Typescript\"].replace({\"Typescript\": \"TypeScript\"})\n",
    "\n",
    "dfall[\"Programming_Languages_Typescript\"].unique()"
   ]
  },
  {
   "cell_type": "code",
   "execution_count": 45,
   "id": "6d294629",
   "metadata": {},
   "outputs": [
    {
     "data": {
      "text/html": [
       "<div>\n",
       "<style scoped>\n",
       "    .dataframe tbody tr th:only-of-type {\n",
       "        vertical-align: middle;\n",
       "    }\n",
       "\n",
       "    .dataframe tbody tr th {\n",
       "        vertical-align: top;\n",
       "    }\n",
       "\n",
       "    .dataframe thead th {\n",
       "        text-align: right;\n",
       "    }\n",
       "</style>\n",
       "<table border=\"1\" class=\"dataframe\">\n",
       "  <thead>\n",
       "    <tr style=\"text-align: right;\">\n",
       "      <th></th>\n",
       "      <th>Year</th>\n",
       "      <th>Age</th>\n",
       "      <th>Country</th>\n",
       "      <th>Education</th>\n",
       "      <th>Gender</th>\n",
       "      <th>Current_Role</th>\n",
       "      <th>Current_Yearly_Compensation</th>\n",
       "      <th>Time_Writing_Code</th>\n",
       "      <th>Time_Using_Machine_Learning_Methods</th>\n",
       "      <th>Primary_Tool_Used_For_Data_Analysis</th>\n",
       "      <th>...</th>\n",
       "      <th>Programming_Languages_R</th>\n",
       "      <th>Programming_Languages_Ruby</th>\n",
       "      <th>Programming_Languages_SQL</th>\n",
       "      <th>Programming_Languages_Sas</th>\n",
       "      <th>Programming_Languages_Scala</th>\n",
       "      <th>Programming_Languages_Stata</th>\n",
       "      <th>Programming_Languages_Swift</th>\n",
       "      <th>Programming_Languages_Typescript</th>\n",
       "      <th>Programming_Languages_Vba</th>\n",
       "      <th>Programming_Languages_Visual_Basic</th>\n",
       "    </tr>\n",
       "  </thead>\n",
       "  <tbody>\n",
       "    <tr>\n",
       "      <th>0</th>\n",
       "      <td>2018</td>\n",
       "      <td>45-54</td>\n",
       "      <td>USA</td>\n",
       "      <td>Doctor</td>\n",
       "      <td>Female</td>\n",
       "      <td>Consultant</td>\n",
       "      <td>NaN</td>\n",
       "      <td>0</td>\n",
       "      <td>0</td>\n",
       "      <td>Cloud-based &amp; APIs</td>\n",
       "      <td>...</td>\n",
       "      <td>NaN</td>\n",
       "      <td>NaN</td>\n",
       "      <td>NaN</td>\n",
       "      <td>NaN</td>\n",
       "      <td>NaN</td>\n",
       "      <td>NaN</td>\n",
       "      <td>NaN</td>\n",
       "      <td>NaN</td>\n",
       "      <td>NaN</td>\n",
       "      <td>NaN</td>\n",
       "    </tr>\n",
       "    <tr>\n",
       "      <th>1</th>\n",
       "      <td>2018</td>\n",
       "      <td>25-34</td>\n",
       "      <td>Indonesia</td>\n",
       "      <td>Bachelor</td>\n",
       "      <td>Male</td>\n",
       "      <td>Other</td>\n",
       "      <td>10-20K</td>\n",
       "      <td>0</td>\n",
       "      <td>0</td>\n",
       "      <td>Basic</td>\n",
       "      <td>...</td>\n",
       "      <td>NaN</td>\n",
       "      <td>NaN</td>\n",
       "      <td>SQL</td>\n",
       "      <td>NaN</td>\n",
       "      <td>NaN</td>\n",
       "      <td>NaN</td>\n",
       "      <td>NaN</td>\n",
       "      <td>NaN</td>\n",
       "      <td>NaN</td>\n",
       "      <td>NaN</td>\n",
       "    </tr>\n",
       "    <tr>\n",
       "      <th>2</th>\n",
       "      <td>2018</td>\n",
       "      <td>25-34</td>\n",
       "      <td>USA</td>\n",
       "      <td>Master</td>\n",
       "      <td>Female</td>\n",
       "      <td>Data Scientist</td>\n",
       "      <td>0-10K</td>\n",
       "      <td>5-10</td>\n",
       "      <td>0-3</td>\n",
       "      <td>Local DE</td>\n",
       "      <td>...</td>\n",
       "      <td>R</td>\n",
       "      <td>NaN</td>\n",
       "      <td>NaN</td>\n",
       "      <td>NaN</td>\n",
       "      <td>NaN</td>\n",
       "      <td>NaN</td>\n",
       "      <td>NaN</td>\n",
       "      <td>NaN</td>\n",
       "      <td>NaN</td>\n",
       "      <td>NaN</td>\n",
       "    </tr>\n",
       "    <tr>\n",
       "      <th>3</th>\n",
       "      <td>2018</td>\n",
       "      <td>35-44</td>\n",
       "      <td>USA</td>\n",
       "      <td>Master</td>\n",
       "      <td>Male</td>\n",
       "      <td>Unemployed</td>\n",
       "      <td>NaN</td>\n",
       "      <td>5-10</td>\n",
       "      <td>3-5</td>\n",
       "      <td>Local DE</td>\n",
       "      <td>...</td>\n",
       "      <td>R</td>\n",
       "      <td>NaN</td>\n",
       "      <td>SQL</td>\n",
       "      <td>NaN</td>\n",
       "      <td>NaN</td>\n",
       "      <td>NaN</td>\n",
       "      <td>NaN</td>\n",
       "      <td>TypeScript</td>\n",
       "      <td>NaN</td>\n",
       "      <td>NaN</td>\n",
       "    </tr>\n",
       "    <tr>\n",
       "      <th>4</th>\n",
       "      <td>2018</td>\n",
       "      <td>18-24</td>\n",
       "      <td>India</td>\n",
       "      <td>Master</td>\n",
       "      <td>Male</td>\n",
       "      <td>Data Analyst</td>\n",
       "      <td>0-10K</td>\n",
       "      <td>5-10</td>\n",
       "      <td>0-3</td>\n",
       "      <td>Advanced</td>\n",
       "      <td>...</td>\n",
       "      <td>NaN</td>\n",
       "      <td>NaN</td>\n",
       "      <td>SQL</td>\n",
       "      <td>NaN</td>\n",
       "      <td>NaN</td>\n",
       "      <td>NaN</td>\n",
       "      <td>NaN</td>\n",
       "      <td>NaN</td>\n",
       "      <td>NaN</td>\n",
       "      <td>NaN</td>\n",
       "    </tr>\n",
       "    <tr>\n",
       "      <th>...</th>\n",
       "      <td>...</td>\n",
       "      <td>...</td>\n",
       "      <td>...</td>\n",
       "      <td>...</td>\n",
       "      <td>...</td>\n",
       "      <td>...</td>\n",
       "      <td>...</td>\n",
       "      <td>...</td>\n",
       "      <td>...</td>\n",
       "      <td>...</td>\n",
       "      <td>...</td>\n",
       "      <td>...</td>\n",
       "      <td>...</td>\n",
       "      <td>...</td>\n",
       "      <td>...</td>\n",
       "      <td>...</td>\n",
       "      <td>...</td>\n",
       "      <td>...</td>\n",
       "      <td>...</td>\n",
       "      <td>...</td>\n",
       "      <td>...</td>\n",
       "    </tr>\n",
       "    <tr>\n",
       "      <th>89580</th>\n",
       "      <td>2021</td>\n",
       "      <td>25-34</td>\n",
       "      <td>Other</td>\n",
       "      <td>Bachelor</td>\n",
       "      <td>Male</td>\n",
       "      <td>Data Analyst</td>\n",
       "      <td>10-20K</td>\n",
       "      <td>0-3</td>\n",
       "      <td>0-3</td>\n",
       "      <td>BI</td>\n",
       "      <td>...</td>\n",
       "      <td>NaN</td>\n",
       "      <td>NaN</td>\n",
       "      <td>SQL</td>\n",
       "      <td>NaN</td>\n",
       "      <td>NaN</td>\n",
       "      <td>NaN</td>\n",
       "      <td>NaN</td>\n",
       "      <td>NaN</td>\n",
       "      <td>NaN</td>\n",
       "      <td>NaN</td>\n",
       "    </tr>\n",
       "    <tr>\n",
       "      <th>89581</th>\n",
       "      <td>2021</td>\n",
       "      <td>18-24</td>\n",
       "      <td>Other</td>\n",
       "      <td>Master</td>\n",
       "      <td>Male</td>\n",
       "      <td>Student</td>\n",
       "      <td>NaN</td>\n",
       "      <td>0-3</td>\n",
       "      <td>0-3</td>\n",
       "      <td>NaN</td>\n",
       "      <td>...</td>\n",
       "      <td>NaN</td>\n",
       "      <td>NaN</td>\n",
       "      <td>NaN</td>\n",
       "      <td>NaN</td>\n",
       "      <td>NaN</td>\n",
       "      <td>NaN</td>\n",
       "      <td>NaN</td>\n",
       "      <td>NaN</td>\n",
       "      <td>NaN</td>\n",
       "      <td>NaN</td>\n",
       "    </tr>\n",
       "    <tr>\n",
       "      <th>89582</th>\n",
       "      <td>2021</td>\n",
       "      <td>45-54</td>\n",
       "      <td>Other</td>\n",
       "      <td>Doctor</td>\n",
       "      <td>Male</td>\n",
       "      <td>Research Scientist</td>\n",
       "      <td>0-10K</td>\n",
       "      <td>0</td>\n",
       "      <td>NaN</td>\n",
       "      <td>Basic</td>\n",
       "      <td>...</td>\n",
       "      <td>NaN</td>\n",
       "      <td>NaN</td>\n",
       "      <td>NaN</td>\n",
       "      <td>NaN</td>\n",
       "      <td>NaN</td>\n",
       "      <td>NaN</td>\n",
       "      <td>NaN</td>\n",
       "      <td>NaN</td>\n",
       "      <td>NaN</td>\n",
       "      <td>NaN</td>\n",
       "    </tr>\n",
       "    <tr>\n",
       "      <th>89583</th>\n",
       "      <td>2021</td>\n",
       "      <td>45-54</td>\n",
       "      <td>USA</td>\n",
       "      <td>Master</td>\n",
       "      <td>Male</td>\n",
       "      <td>Data Scientist</td>\n",
       "      <td>NaN</td>\n",
       "      <td>5-10</td>\n",
       "      <td>3-5</td>\n",
       "      <td>NaN</td>\n",
       "      <td>...</td>\n",
       "      <td>NaN</td>\n",
       "      <td>NaN</td>\n",
       "      <td>SQL</td>\n",
       "      <td>NaN</td>\n",
       "      <td>NaN</td>\n",
       "      <td>NaN</td>\n",
       "      <td>NaN</td>\n",
       "      <td>NaN</td>\n",
       "      <td>NaN</td>\n",
       "      <td>NaN</td>\n",
       "    </tr>\n",
       "    <tr>\n",
       "      <th>89584</th>\n",
       "      <td>2021</td>\n",
       "      <td>18-24</td>\n",
       "      <td>India</td>\n",
       "      <td>Bachelor</td>\n",
       "      <td>Male</td>\n",
       "      <td>BI Analyst</td>\n",
       "      <td>0-10K</td>\n",
       "      <td>0</td>\n",
       "      <td>NaN</td>\n",
       "      <td>Advanced</td>\n",
       "      <td>...</td>\n",
       "      <td>NaN</td>\n",
       "      <td>NaN</td>\n",
       "      <td>NaN</td>\n",
       "      <td>NaN</td>\n",
       "      <td>NaN</td>\n",
       "      <td>NaN</td>\n",
       "      <td>NaN</td>\n",
       "      <td>NaN</td>\n",
       "      <td>NaN</td>\n",
       "      <td>NaN</td>\n",
       "    </tr>\n",
       "  </tbody>\n",
       "</table>\n",
       "<p>87257 rows × 122 columns</p>\n",
       "</div>"
      ],
      "text/plain": [
       "       Year    Age    Country Education  Gender        Current_Role  \\\n",
       "0      2018  45-54        USA    Doctor  Female          Consultant   \n",
       "1      2018  25-34  Indonesia  Bachelor    Male               Other   \n",
       "2      2018  25-34        USA    Master  Female      Data Scientist   \n",
       "3      2018  35-44        USA    Master    Male          Unemployed   \n",
       "4      2018  18-24      India    Master    Male        Data Analyst   \n",
       "...     ...    ...        ...       ...     ...                 ...   \n",
       "89580  2021  25-34      Other  Bachelor    Male        Data Analyst   \n",
       "89581  2021  18-24      Other    Master    Male             Student   \n",
       "89582  2021  45-54      Other    Doctor    Male  Research Scientist   \n",
       "89583  2021  45-54        USA    Master    Male      Data Scientist   \n",
       "89584  2021  18-24      India  Bachelor    Male          BI Analyst   \n",
       "\n",
       "      Current_Yearly_Compensation Time_Writing_Code  \\\n",
       "0                             NaN                 0   \n",
       "1                          10-20K                 0   \n",
       "2                           0-10K              5-10   \n",
       "3                             NaN              5-10   \n",
       "4                           0-10K              5-10   \n",
       "...                           ...               ...   \n",
       "89580                      10-20K               0-3   \n",
       "89581                         NaN               0-3   \n",
       "89582                       0-10K                 0   \n",
       "89583                         NaN              5-10   \n",
       "89584                       0-10K                 0   \n",
       "\n",
       "      Time_Using_Machine_Learning_Methods Primary_Tool_Used_For_Data_Analysis  \\\n",
       "0                                       0                  Cloud-based & APIs   \n",
       "1                                       0                               Basic   \n",
       "2                                     0-3                            Local DE   \n",
       "3                                     3-5                            Local DE   \n",
       "4                                     0-3                            Advanced   \n",
       "...                                   ...                                 ...   \n",
       "89580                                 0-3                                  BI   \n",
       "89581                                 0-3                                 NaN   \n",
       "89582                                 NaN                               Basic   \n",
       "89583                                 3-5                                 NaN   \n",
       "89584                                 NaN                            Advanced   \n",
       "\n",
       "       ... Programming_Languages_R Programming_Languages_Ruby  \\\n",
       "0      ...                     NaN                        NaN   \n",
       "1      ...                     NaN                        NaN   \n",
       "2      ...                       R                        NaN   \n",
       "3      ...                       R                        NaN   \n",
       "4      ...                     NaN                        NaN   \n",
       "...    ...                     ...                        ...   \n",
       "89580  ...                     NaN                        NaN   \n",
       "89581  ...                     NaN                        NaN   \n",
       "89582  ...                     NaN                        NaN   \n",
       "89583  ...                     NaN                        NaN   \n",
       "89584  ...                     NaN                        NaN   \n",
       "\n",
       "      Programming_Languages_SQL Programming_Languages_Sas  \\\n",
       "0                           NaN                       NaN   \n",
       "1                           SQL                       NaN   \n",
       "2                           NaN                       NaN   \n",
       "3                           SQL                       NaN   \n",
       "4                           SQL                       NaN   \n",
       "...                         ...                       ...   \n",
       "89580                       SQL                       NaN   \n",
       "89581                       NaN                       NaN   \n",
       "89582                       NaN                       NaN   \n",
       "89583                       SQL                       NaN   \n",
       "89584                       NaN                       NaN   \n",
       "\n",
       "      Programming_Languages_Scala Programming_Languages_Stata  \\\n",
       "0                             NaN                         NaN   \n",
       "1                             NaN                         NaN   \n",
       "2                             NaN                         NaN   \n",
       "3                             NaN                         NaN   \n",
       "4                             NaN                         NaN   \n",
       "...                           ...                         ...   \n",
       "89580                         NaN                         NaN   \n",
       "89581                         NaN                         NaN   \n",
       "89582                         NaN                         NaN   \n",
       "89583                         NaN                         NaN   \n",
       "89584                         NaN                         NaN   \n",
       "\n",
       "      Programming_Languages_Swift Programming_Languages_Typescript  \\\n",
       "0                             NaN                              NaN   \n",
       "1                             NaN                              NaN   \n",
       "2                             NaN                              NaN   \n",
       "3                             NaN                       TypeScript   \n",
       "4                             NaN                              NaN   \n",
       "...                           ...                              ...   \n",
       "89580                         NaN                              NaN   \n",
       "89581                         NaN                              NaN   \n",
       "89582                         NaN                              NaN   \n",
       "89583                         NaN                              NaN   \n",
       "89584                         NaN                              NaN   \n",
       "\n",
       "      Programming_Languages_Vba Programming_Languages_Visual_Basic  \n",
       "0                           NaN                                NaN  \n",
       "1                           NaN                                NaN  \n",
       "2                           NaN                                NaN  \n",
       "3                           NaN                                NaN  \n",
       "4                           NaN                                NaN  \n",
       "...                         ...                                ...  \n",
       "89580                       NaN                                NaN  \n",
       "89581                       NaN                                NaN  \n",
       "89582                       NaN                                NaN  \n",
       "89583                       NaN                                NaN  \n",
       "89584                       NaN                                NaN  \n",
       "\n",
       "[87257 rows x 122 columns]"
      ]
     },
     "execution_count": 45,
     "metadata": {},
     "output_type": "execute_result"
    }
   ],
   "source": [
    "dfall"
   ]
  },
  {
   "cell_type": "markdown",
   "id": "64cf82a1",
   "metadata": {},
   "source": [
    "Control of empty spaces inside cells"
   ]
  },
  {
   "cell_type": "code",
   "execution_count": 46,
   "id": "94de31f7",
   "metadata": {},
   "outputs": [
    {
     "name": "stdout",
     "output_type": "stream",
     "text": [
      "Cells are clean\n"
     ]
    }
   ],
   "source": [
    "# removing empty spaces\n",
    "\n",
    "dfall = dfall.apply(lambda col: col.map(lambda x: x.strip() if isinstance(x, str) else x))\n",
    "\n",
    "# check empty spaces\n",
    "mask = dfall.stack().map(lambda x: isinstance(x, str) and (x != x.strip()))\n",
    "\n",
    "if mask.any():\n",
    "    print(\"Cells contain empty spaces\")\n",
    "else:\n",
    "    print(\"Cells are clean\")\n",
    "\n",
    "\n",
    "# save df to CSV file\n",
    "dfall.to_csv(\"df18-21_cleaned.csv\", index=False)"
   ]
  }
 ],
 "metadata": {
  "kernelspec": {
   "display_name": "Python 3",
   "language": "python",
   "name": "python3"
  },
  "language_info": {
   "codemirror_mode": {
    "name": "ipython",
    "version": 3
   },
   "file_extension": ".py",
   "mimetype": "text/x-python",
   "name": "python",
   "nbconvert_exporter": "python",
   "pygments_lexer": "ipython3",
   "version": "3.12.5"
  }
 },
 "nbformat": 4,
 "nbformat_minor": 5
}
